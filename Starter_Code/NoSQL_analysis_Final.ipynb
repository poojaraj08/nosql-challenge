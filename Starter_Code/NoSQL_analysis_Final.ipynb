{
 "cells": [
  {
   "cell_type": "markdown",
   "id": "9a57c4c6",
   "metadata": {},
   "source": [
    "# Eat Safe, Love"
   ]
  },
  {
   "cell_type": "markdown",
   "id": "064ef857",
   "metadata": {},
   "source": [
    "## Notebook Set Up"
   ]
  },
  {
   "cell_type": "code",
   "execution_count": 1,
   "id": "3ecdd008",
   "metadata": {},
   "outputs": [],
   "source": [
    "# Import dependencies\n",
    "from pymongo import MongoClient\n",
    "from pprint import pprint\n",
    "import pandas as pd"
   ]
  },
  {
   "cell_type": "code",
   "execution_count": 2,
   "id": "59390c4a",
   "metadata": {},
   "outputs": [],
   "source": [
    "# Create an instance of MongoClient\n",
    "mongo = MongoClient(port=27017)"
   ]
  },
  {
   "cell_type": "code",
   "execution_count": 3,
   "id": "71e373c1",
   "metadata": {},
   "outputs": [],
   "source": [
    "# assign the uk_food database to a variable name\n",
    "db = mongo['uk_foods']"
   ]
  },
  {
   "cell_type": "code",
   "execution_count": 4,
   "id": "18ab463c",
   "metadata": {},
   "outputs": [
    {
     "name": "stdout",
     "output_type": "stream",
     "text": [
      "['establishments']\n"
     ]
    }
   ],
   "source": [
    "# review the collections in our database\n",
    "print(db.list_collection_names())"
   ]
  },
  {
   "cell_type": "code",
   "execution_count": 5,
   "id": "11c9f11b",
   "metadata": {},
   "outputs": [],
   "source": [
    "# assign the collection to a variable\n",
    "establishments = db['establishments']"
   ]
  },
  {
   "cell_type": "markdown",
   "id": "d5671434",
   "metadata": {},
   "source": [
    "## Part 3: Exploratory Analysis\n",
    "Unless otherwise stated, for each question: \n",
    "* Use `count_documents` to display the number of documents contained in the result.\n",
    "* Display the first document in the results using `pprint`.\n",
    "* Convert the result to a Pandas DataFrame, print the number of rows in the DataFrame, and display the first 10 rows."
   ]
  },
  {
   "cell_type": "markdown",
   "id": "314bd884",
   "metadata": {},
   "source": [
    "### 1. Which establishments have a hygiene score equal to 20?"
   ]
  },
  {
   "cell_type": "code",
   "execution_count": 6,
   "id": "c2da7648",
   "metadata": {},
   "outputs": [
    {
     "name": "stdout",
     "output_type": "stream",
     "text": [
      "{'AddressLine1': '5-6 Southfields Road',\n",
      " 'AddressLine2': 'Eastbourne',\n",
      " 'AddressLine3': 'East Sussex',\n",
      " 'AddressLine4': '',\n",
      " 'BusinessName': 'The Chase Rest Home',\n",
      " 'BusinessType': 'Caring Premises',\n",
      " 'BusinessTypeID': 5,\n",
      " 'ChangesByServerID': 0,\n",
      " 'Distance': 4613.888288172291,\n",
      " 'FHRSID': 110681,\n",
      " 'LocalAuthorityBusinessID': '4029',\n",
      " 'LocalAuthorityCode': '102',\n",
      " 'LocalAuthorityEmailAddress': 'Customerfirst@eastbourne.gov.uk',\n",
      " 'LocalAuthorityName': 'Eastbourne',\n",
      " 'LocalAuthorityWebSite': 'http://www.eastbourne.gov.uk/foodratings',\n",
      " 'NewRatingPending': False,\n",
      " 'Phone': '',\n",
      " 'PostCode': 'BN21 1BU',\n",
      " 'RatingDate': '2021-09-23T00:00:00',\n",
      " 'RatingKey': 'fhrs_0_en-gb',\n",
      " 'RatingValue': '0',\n",
      " 'RightToReply': '',\n",
      " 'SchemeType': 'FHRS',\n",
      " '_id': ObjectId('6407bb00fdd3235c36cc8da1'),\n",
      " 'geocode': {'latitude': 50.769705, 'longitude': 0.27694},\n",
      " 'latitude': None,\n",
      " 'links': [{'href': 'https://api.ratings.food.gov.uk/establishments/110681',\n",
      "            'rel': 'self'}],\n",
      " 'longitude': None,\n",
      " 'meta': {'dataSource': None,\n",
      "          'extractDate': '0001-01-01T00:00:00',\n",
      "          'itemCount': 0,\n",
      "          'pageNumber': 0,\n",
      "          'pageSize': 0,\n",
      "          'returncode': None,\n",
      "          'totalCount': 0,\n",
      "          'totalPages': 0},\n",
      " 'scores': {'ConfidenceInManagement': 20, 'Hygiene': 20, 'Structural': 20}}\n"
     ]
    }
   ],
   "source": [
    "# Find the establishments with a hygiene score of 20\n",
    "score_query = {'scores.Hygiene': 20}\n",
    "\n",
    "# Use count_documents to display the number of documents in the result\n",
    "result = db.establishments.count_documents(score_query)\n",
    "# Display the first document in the results using pprint\n",
    "firstDoc= establishments.find(score_query)\n",
    "pprint(firstDoc[0])"
   ]
  },
  {
   "cell_type": "code",
   "execution_count": 7,
   "id": "a6e5cece",
   "metadata": {},
   "outputs": [
    {
     "name": "stdout",
     "output_type": "stream",
     "text": [
      "Rows in DataFrame:  41\n",
      "                        _id   FHRSID  ChangesByServerID  \\\n",
      "0  6407bb00fdd3235c36cc8da1   110681                  0   \n",
      "1  6407bb01fdd3235c36cc9122   612039                  0   \n",
      "2  6407bb02fdd3235c36cc942c   730933                  0   \n",
      "3  6407bb02fdd3235c36cc961a   172735                  0   \n",
      "4  6407bb02fdd3235c36cc9629   172953                  0   \n",
      "5  6407bb04fdd3235c36cc9fc8   512854                  0   \n",
      "6  6407bb04fdd3235c36cca1e9  1537089                  0   \n",
      "7  6407bb08fdd3235c36ccb714   155648                  0   \n",
      "8  6407bb09fdd3235c36ccbb58  1012883                  0   \n",
      "9  6407bb0afdd3235c36ccc36a   644109                  0   \n",
      "\n",
      "  LocalAuthorityBusinessID               BusinessName  \\\n",
      "0                     4029        The Chase Rest Home   \n",
      "1                1970/FOOD                 Brenalwood   \n",
      "2                1698/FOOD              Melrose Hotel   \n",
      "3             PI/000023858              Seaford Pizza   \n",
      "4             PI/000024532              Golden Palace   \n",
      "5            12/00816/BUTH           Ashby's Butchers   \n",
      "6          22/00224/RESTUN  South Sea Express Cuisine   \n",
      "7              EH/00006058              Golden Palace   \n",
      "8         17/00110/MIXED/S             The Tulip Tree   \n",
      "9                    41811                      F & S   \n",
      "\n",
      "                        BusinessType  BusinessTypeID           AddressLine1  \\\n",
      "0                    Caring Premises               5   5-6 Southfields Road   \n",
      "1                    Caring Premises               5              Hall Lane   \n",
      "2  Hotel/bed & breakfast/guest house            7842  53 Marine Parade East   \n",
      "3             Takeaway/sandwich shop            7844          4 High Street   \n",
      "4            Restaurant/Cafe/Canteen               1         5 South Street   \n",
      "5                  Retailers - other            4613   777 Southchurch Road   \n",
      "6            Restaurant/Cafe/Canteen               1    33 Alexandra Street   \n",
      "7             Takeaway/sandwich shop            7844          7 London Road   \n",
      "8            Restaurant/Cafe/Canteen               1          3 The Village   \n",
      "9                  Retailers - other            4613                          \n",
      "\n",
      "         AddressLine2 AddressLine3  ...  \\\n",
      "0          Eastbourne  East Sussex  ...   \n",
      "1  Walton-on-the-Naze        Essex  ...   \n",
      "2      Clacton On Sea        Essex  ...   \n",
      "3             Seaford  East Sussex  ...   \n",
      "4             Seaford  East Sussex  ...   \n",
      "5     Southend-On-Sea        Essex  ...   \n",
      "6     Southend-on-sea        Essex  ...   \n",
      "7            Rayleigh        Essex  ...   \n",
      "8       Chiddingstone         KENT  ...   \n",
      "9      81 Southernhay     Basildon  ...   \n",
      "\n",
      "                                              scores SchemeType  \\\n",
      "0  {'Hygiene': 20, 'Structural': 20, 'ConfidenceI...       FHRS   \n",
      "1  {'Hygiene': 20, 'Structural': 15, 'ConfidenceI...       FHRS   \n",
      "2  {'Hygiene': 20, 'Structural': 20, 'ConfidenceI...       FHRS   \n",
      "3  {'Hygiene': 20, 'Structural': 10, 'ConfidenceI...       FHRS   \n",
      "4  {'Hygiene': 20, 'Structural': 10, 'ConfidenceI...       FHRS   \n",
      "5  {'Hygiene': 20, 'Structural': 20, 'ConfidenceI...       FHRS   \n",
      "6  {'Hygiene': 20, 'Structural': 20, 'ConfidenceI...       FHRS   \n",
      "7  {'Hygiene': 20, 'Structural': 15, 'ConfidenceI...       FHRS   \n",
      "8  {'Hygiene': 20, 'Structural': 5, 'ConfidenceIn...       FHRS   \n",
      "9  {'Hygiene': 20, 'Structural': 20, 'ConfidenceI...       FHRS   \n",
      "\n",
      "                                             geocode RightToReply  \\\n",
      "0      {'longitude': 0.27694, 'latitude': 50.769705}                \n",
      "1     {'longitude': 1.278721, 'latitude': 51.857536}                \n",
      "2      {'longitude': 1.15927, 'latitude': 51.789429}                \n",
      "3      {'longitude': 0.10202, 'latitude': 50.770885}                \n",
      "4     {'longitude': 0.101446, 'latitude': 50.770724}                \n",
      "5     {'longitude': 0.736349, 'latitude': 51.541448}                \n",
      "6   {'longitude': 0.7121671, 'latitude': 51.5350065}                \n",
      "7     {'longitude': 0.602364, 'latitude': 51.591515}                \n",
      "8  {'longitude': 0.146449998021126, 'latitude': 5...                \n",
      "9      {'longitude': 0.462307, 'latitude': 51.57005}                \n",
      "\n",
      "      Distance NewRatingPending  \\\n",
      "0  4613.888288            False   \n",
      "1  4617.965824            False   \n",
      "2  4619.656144            False   \n",
      "3  4620.421725            False   \n",
      "4  4620.437179            False   \n",
      "5  4625.565258            False   \n",
      "6  4626.200132            False   \n",
      "7  4632.276890            False   \n",
      "8  4633.934041            False   \n",
      "9  4636.552523            False   \n",
      "\n",
      "                                                meta  \\\n",
      "0  {'dataSource': None, 'extractDate': '0001-01-0...   \n",
      "1  {'dataSource': None, 'extractDate': '0001-01-0...   \n",
      "2  {'dataSource': None, 'extractDate': '0001-01-0...   \n",
      "3  {'dataSource': None, 'extractDate': '0001-01-0...   \n",
      "4  {'dataSource': None, 'extractDate': '0001-01-0...   \n",
      "5  {'dataSource': None, 'extractDate': '0001-01-0...   \n",
      "6  {'dataSource': None, 'extractDate': '0001-01-0...   \n",
      "7  {'dataSource': None, 'extractDate': '0001-01-0...   \n",
      "8  {'dataSource': None, 'extractDate': '0001-01-0...   \n",
      "9  {'dataSource': None, 'extractDate': '0001-01-0...   \n",
      "\n",
      "                                               links longitude latitude  \n",
      "0  [{'rel': 'self', 'href': 'https://api.ratings....      None     None  \n",
      "1  [{'rel': 'self', 'href': 'https://api.ratings....      None     None  \n",
      "2  [{'rel': 'self', 'href': 'https://api.ratings....      None     None  \n",
      "3  [{'rel': 'self', 'href': 'https://api.ratings....      None     None  \n",
      "4  [{'rel': 'self', 'href': 'https://api.ratings....      None     None  \n",
      "5  [{'rel': 'self', 'href': 'https://api.ratings....      None     None  \n",
      "6  [{'rel': 'self', 'href': 'https://api.ratings....      None     None  \n",
      "7  [{'rel': 'self', 'href': 'http://api.ratings.f...      None     None  \n",
      "8  [{'rel': 'self', 'href': 'http://api.ratings.f...      None     None  \n",
      "9  [{'rel': 'self', 'href': 'http://api.ratings.f...      None     None  \n",
      "\n",
      "[10 rows x 30 columns]\n"
     ]
    }
   ],
   "source": [
    "# Convert the result to a Pandas DataFrame\n",
    "first_doc_df = pd.DataFrame(firstDoc)\n",
    "# Display the number of rows in the DataFrame\n",
    "print(\"Rows in DataFrame: \", len(first_doc_df))\n",
    "# Display the first 10 rows of the DataFrame\n",
    "pprint(first_doc_df[0:10])"
   ]
  },
  {
   "cell_type": "markdown",
   "id": "0ef4395a",
   "metadata": {},
   "source": [
    "### 2. Which establishments in London have a `RatingValue` greater than or equal to 4?"
   ]
  },
  {
   "cell_type": "code",
   "execution_count": 8,
   "id": "93c63829",
   "metadata": {},
   "outputs": [
    {
     "ename": "IndexError",
     "evalue": "no such item for Cursor instance",
     "output_type": "error",
     "traceback": [
      "\u001b[1;31m---------------------------------------------------------------------------\u001b[0m",
      "\u001b[1;31mIndexError\u001b[0m                                Traceback (most recent call last)",
      "Input \u001b[1;32mIn [8]\u001b[0m, in \u001b[0;36m<cell line: 8>\u001b[1;34m()\u001b[0m\n\u001b[0;32m      6\u001b[0m \u001b[38;5;66;03m# Display the first document in the results using pprint\u001b[39;00m\n\u001b[0;32m      7\u001b[0m first_RatingValue\u001b[38;5;241m=\u001b[39m establishments\u001b[38;5;241m.\u001b[39mfind(rating_query)\n\u001b[1;32m----> 8\u001b[0m pprint(\u001b[43mfirst_RatingValue\u001b[49m\u001b[43m[\u001b[49m\u001b[38;5;241;43m0\u001b[39;49m\u001b[43m]\u001b[49m)\n",
      "File \u001b[1;32m~\\anaconda3\\lib\\site-packages\\pymongo\\cursor.py:760\u001b[0m, in \u001b[0;36mCursor.__getitem__\u001b[1;34m(self, index)\u001b[0m\n\u001b[0;32m    758\u001b[0m     \u001b[38;5;28;01mfor\u001b[39;00m doc \u001b[38;5;129;01min\u001b[39;00m clone:\n\u001b[0;32m    759\u001b[0m         \u001b[38;5;28;01mreturn\u001b[39;00m doc\n\u001b[1;32m--> 760\u001b[0m     \u001b[38;5;28;01mraise\u001b[39;00m \u001b[38;5;167;01mIndexError\u001b[39;00m(\u001b[38;5;124m\"\u001b[39m\u001b[38;5;124mno such item for Cursor instance\u001b[39m\u001b[38;5;124m\"\u001b[39m)\n\u001b[0;32m    761\u001b[0m \u001b[38;5;28;01mraise\u001b[39;00m \u001b[38;5;167;01mTypeError\u001b[39;00m(\u001b[38;5;124m\"\u001b[39m\u001b[38;5;124mindex \u001b[39m\u001b[38;5;132;01m%r\u001b[39;00m\u001b[38;5;124m cannot be applied to Cursor instances\u001b[39m\u001b[38;5;124m\"\u001b[39m \u001b[38;5;241m%\u001b[39m index)\n",
      "\u001b[1;31mIndexError\u001b[0m: no such item for Cursor instance"
     ]
    }
   ],
   "source": [
    "# Find the establishments with London as the Local Authority and has a RatingValue greater than or equal to 4.\n",
    "rating_query = {'RatingValue': {'gte': 4}}\n",
    "\n",
    "# Use count_documents to display the number of documents in the result\n",
    "result = db.establishments.count_documents(rating_query)\n",
    "# Display the first document in the results using pprint\n",
    "first_RatingValue= establishments.find(rating_query)\n",
    "pprint(first_RatingValue[0])"
   ]
  },
  {
   "cell_type": "code",
   "execution_count": 9,
   "id": "07e24ccb",
   "metadata": {},
   "outputs": [
    {
     "name": "stdout",
     "output_type": "stream",
     "text": [
      "Rows in DataFrame:  0\n"
     ]
    },
    {
     "ename": "InvalidOperation",
     "evalue": "cannot set options after executing query",
     "output_type": "error",
     "traceback": [
      "\u001b[1;31m---------------------------------------------------------------------------\u001b[0m",
      "\u001b[1;31mInvalidOperation\u001b[0m                          Traceback (most recent call last)",
      "Input \u001b[1;32mIn [9]\u001b[0m, in \u001b[0;36m<cell line: 6>\u001b[1;34m()\u001b[0m\n\u001b[0;32m      4\u001b[0m \u001b[38;5;28mprint\u001b[39m(\u001b[38;5;124m\"\u001b[39m\u001b[38;5;124mRows in DataFrame: \u001b[39m\u001b[38;5;124m\"\u001b[39m, \u001b[38;5;28mlen\u001b[39m(first_RV_df))\n\u001b[0;32m      5\u001b[0m \u001b[38;5;66;03m# Display the first 10 rows of the DataFrame\u001b[39;00m\n\u001b[1;32m----> 6\u001b[0m pprint(\u001b[43mfirst_RatingValue\u001b[49m\u001b[43m[\u001b[49m\u001b[38;5;241;43m0\u001b[39;49m\u001b[43m:\u001b[49m\u001b[38;5;241;43m10\u001b[39;49m\u001b[43m]\u001b[49m)\n",
      "File \u001b[1;32m~\\anaconda3\\lib\\site-packages\\pymongo\\cursor.py:724\u001b[0m, in \u001b[0;36mCursor.__getitem__\u001b[1;34m(self, index)\u001b[0m\n\u001b[0;32m    683\u001b[0m \u001b[38;5;28;01mdef\u001b[39;00m \u001b[38;5;21m__getitem__\u001b[39m(\u001b[38;5;28mself\u001b[39m, index):\n\u001b[0;32m    684\u001b[0m     \u001b[38;5;124;03m\"\"\"Get a single document or a slice of documents from this cursor.\u001b[39;00m\n\u001b[0;32m    685\u001b[0m \n\u001b[0;32m    686\u001b[0m \u001b[38;5;124;03m    .. warning:: A :class:`~Cursor` is not a Python :class:`list`. Each\u001b[39;00m\n\u001b[1;32m   (...)\u001b[0m\n\u001b[0;32m    722\u001b[0m \u001b[38;5;124;03m      - `index`: An integer or slice index to be applied to this cursor\u001b[39;00m\n\u001b[0;32m    723\u001b[0m \u001b[38;5;124;03m    \"\"\"\u001b[39;00m\n\u001b[1;32m--> 724\u001b[0m     \u001b[38;5;28;43mself\u001b[39;49m\u001b[38;5;241;43m.\u001b[39;49m\u001b[43m__check_okay_to_chain\u001b[49m\u001b[43m(\u001b[49m\u001b[43m)\u001b[49m\n\u001b[0;32m    725\u001b[0m     \u001b[38;5;28mself\u001b[39m\u001b[38;5;241m.\u001b[39m__empty \u001b[38;5;241m=\u001b[39m \u001b[38;5;28;01mFalse\u001b[39;00m\n\u001b[0;32m    726\u001b[0m     \u001b[38;5;28;01mif\u001b[39;00m \u001b[38;5;28misinstance\u001b[39m(index, \u001b[38;5;28mslice\u001b[39m):\n",
      "File \u001b[1;32m~\\anaconda3\\lib\\site-packages\\pymongo\\cursor.py:496\u001b[0m, in \u001b[0;36mCursor.__check_okay_to_chain\u001b[1;34m(self)\u001b[0m\n\u001b[0;32m    494\u001b[0m \u001b[38;5;124;03m\"\"\"Check if it is okay to chain more options onto this cursor.\"\"\"\u001b[39;00m\n\u001b[0;32m    495\u001b[0m \u001b[38;5;28;01mif\u001b[39;00m \u001b[38;5;28mself\u001b[39m\u001b[38;5;241m.\u001b[39m__retrieved \u001b[38;5;129;01mor\u001b[39;00m \u001b[38;5;28mself\u001b[39m\u001b[38;5;241m.\u001b[39m__id \u001b[38;5;129;01mis\u001b[39;00m \u001b[38;5;129;01mnot\u001b[39;00m \u001b[38;5;28;01mNone\u001b[39;00m:\n\u001b[1;32m--> 496\u001b[0m     \u001b[38;5;28;01mraise\u001b[39;00m InvalidOperation(\u001b[38;5;124m\"\u001b[39m\u001b[38;5;124mcannot set options after executing query\u001b[39m\u001b[38;5;124m\"\u001b[39m)\n",
      "\u001b[1;31mInvalidOperation\u001b[0m: cannot set options after executing query"
     ]
    }
   ],
   "source": [
    "# Convert the result to a Pandas DataFrame\n",
    "first_RV_df = pd.DataFrame(first_RatingValue)\n",
    "# Display the number of rows in the DataFrame\n",
    "print(\"Rows in DataFrame: \", len(first_RV_df))\n",
    "# Display the first 10 rows of the DataFrame\n",
    "pprint(first_RatingValue[0:10])"
   ]
  },
  {
   "cell_type": "markdown",
   "id": "4e570caf",
   "metadata": {},
   "source": [
    "### 3. What are the top 5 establishments with a `RatingValue` rating value of '5', sorted by lowest hygiene score, nearest to the new restaurant added, \"Penang Flavours\"?"
   ]
  },
  {
   "cell_type": "code",
   "execution_count": 10,
   "id": "7f599f3d",
   "metadata": {},
   "outputs": [
    {
     "name": "stdout",
     "output_type": "stream",
     "text": [
      "[{'AddressLine1': '130 - 132 Plumstead High Street',\n",
      "  'AddressLine2': '',\n",
      "  'AddressLine3': 'Plumstead',\n",
      "  'AddressLine4': 'Greenwich',\n",
      "  'BusinessName': 'Volunteer',\n",
      "  'BusinessType': 'Pub/bar/nightclub',\n",
      "  'BusinessTypeID': 7843,\n",
      "  'ChangesByServerID': 0,\n",
      "  'Distance': 4646.965634598608,\n",
      "  'FHRSID': 694609,\n",
      "  'LocalAuthorityBusinessID': 'PI/000116619',\n",
      "  'LocalAuthorityCode': '511',\n",
      "  'LocalAuthorityEmailAddress': 'health@royalgreenwich.gov.uk',\n",
      "  'LocalAuthorityName': 'Greenwich',\n",
      "  'LocalAuthorityWebSite': 'http://www.royalgreenwich.gov.uk',\n",
      "  'NewRatingPending': False,\n",
      "  'Phone': '',\n",
      "  'PostCode': 'SE18 1JQ',\n",
      "  'RatingDate': '2019-08-05T00:00:00',\n",
      "  'RatingKey': 'fhrs_5_en-gb',\n",
      "  'RatingValue': '5',\n",
      "  'RightToReply': '',\n",
      "  'SchemeType': 'FHRS',\n",
      "  '_id': ObjectId('6407bb10fdd3235c36cce600'),\n",
      "  'geocode': {'latitude': 51.4873437, 'longitude': 0.09208},\n",
      "  'latitude': None,\n",
      "  'links': [{'href': 'http://api.ratings.food.gov.uk/establishments/694609',\n",
      "             'rel': 'self'}],\n",
      "  'longitude': None,\n",
      "  'meta': {'dataSource': None,\n",
      "           'extractDate': '0001-01-01T00:00:00',\n",
      "           'itemCount': 0,\n",
      "           'pageNumber': 0,\n",
      "           'pageSize': 0,\n",
      "           'returncode': None,\n",
      "           'totalCount': 0,\n",
      "           'totalPages': 0},\n",
      "  'scores': {'ConfidenceInManagement': 0, 'Hygiene': 0, 'Structural': 0}},\n",
      " {'AddressLine1': 'Plumstead Manor School Old Mill Road',\n",
      "  'AddressLine2': '',\n",
      "  'AddressLine3': 'Plumstead',\n",
      "  'AddressLine4': 'Greenwich',\n",
      "  'BusinessName': 'Plumstead Manor Nursery',\n",
      "  'BusinessType': 'Caring Premises',\n",
      "  'BusinessTypeID': 5,\n",
      "  'ChangesByServerID': 0,\n",
      "  'Distance': 4646.9740101340385,\n",
      "  'FHRSID': 695241,\n",
      "  'LocalAuthorityBusinessID': 'PI/000179088',\n",
      "  'LocalAuthorityCode': '511',\n",
      "  'LocalAuthorityEmailAddress': 'health@royalgreenwich.gov.uk',\n",
      "  'LocalAuthorityName': 'Greenwich',\n",
      "  'LocalAuthorityWebSite': 'http://www.royalgreenwich.gov.uk',\n",
      "  'NewRatingPending': False,\n",
      "  'Phone': '',\n",
      "  'PostCode': 'SE18 1QG',\n",
      "  'RatingDate': '2021-06-16T00:00:00',\n",
      "  'RatingKey': 'fhrs_5_en-gb',\n",
      "  'RatingValue': '5',\n",
      "  'RightToReply': '',\n",
      "  'SchemeType': 'FHRS',\n",
      "  '_id': ObjectId('6407bb10fdd3235c36cce618'),\n",
      "  'geocode': {'latitude': 51.481517791748, 'longitude': 0.0859939977526665},\n",
      "  'latitude': None,\n",
      "  'links': [{'href': 'http://api.ratings.food.gov.uk/establishments/695241',\n",
      "             'rel': 'self'}],\n",
      "  'longitude': None,\n",
      "  'meta': {'dataSource': None,\n",
      "           'extractDate': '0001-01-01T00:00:00',\n",
      "           'itemCount': 0,\n",
      "           'pageNumber': 0,\n",
      "           'pageSize': 0,\n",
      "           'returncode': None,\n",
      "           'totalCount': 0,\n",
      "           'totalPages': 0},\n",
      "  'scores': {'ConfidenceInManagement': 5, 'Hygiene': 0, 'Structural': 0}},\n",
      " {'AddressLine1': '35 Lakedale Road',\n",
      "  'AddressLine2': '',\n",
      "  'AddressLine3': 'Plumstead',\n",
      "  'AddressLine4': 'Greenwich',\n",
      "  'BusinessName': 'Atlantic Fish Bar',\n",
      "  'BusinessType': 'Takeaway/sandwich shop',\n",
      "  'BusinessTypeID': 7844,\n",
      "  'ChangesByServerID': 0,\n",
      "  'Distance': 4646.974611855838,\n",
      "  'FHRSID': 694478,\n",
      "  'LocalAuthorityBusinessID': 'PI/000086506',\n",
      "  'LocalAuthorityCode': '511',\n",
      "  'LocalAuthorityEmailAddress': 'health@royalgreenwich.gov.uk',\n",
      "  'LocalAuthorityName': 'Greenwich',\n",
      "  'LocalAuthorityWebSite': 'http://www.royalgreenwich.gov.uk',\n",
      "  'NewRatingPending': False,\n",
      "  'Phone': '',\n",
      "  'PostCode': 'SE18 1PR',\n",
      "  'RatingDate': '2021-06-16T00:00:00',\n",
      "  'RatingKey': 'fhrs_5_en-gb',\n",
      "  'RatingValue': '5',\n",
      "  'RightToReply': '',\n",
      "  'SchemeType': 'FHRS',\n",
      "  '_id': ObjectId('6407bb10fdd3235c36cce61b'),\n",
      "  'geocode': {'latitude': 51.4867296, 'longitude': 0.0912164},\n",
      "  'latitude': None,\n",
      "  'links': [{'href': 'http://api.ratings.food.gov.uk/establishments/694478',\n",
      "             'rel': 'self'}],\n",
      "  'longitude': None,\n",
      "  'meta': {'dataSource': None,\n",
      "           'extractDate': '0001-01-01T00:00:00',\n",
      "           'itemCount': 0,\n",
      "           'pageNumber': 0,\n",
      "           'pageSize': 0,\n",
      "           'returncode': None,\n",
      "           'totalCount': 0,\n",
      "           'totalPages': 0},\n",
      "  'scores': {'ConfidenceInManagement': 5, 'Hygiene': 0, 'Structural': 0}},\n",
      " {'AddressLine1': '144 - 146 Plumstead High Street',\n",
      "  'AddressLine2': '',\n",
      "  'AddressLine3': 'Plumstead',\n",
      "  'AddressLine4': 'Greenwich',\n",
      "  'BusinessName': 'Iceland',\n",
      "  'BusinessType': 'Retailers - supermarkets/hypermarkets',\n",
      "  'BusinessTypeID': 7840,\n",
      "  'ChangesByServerID': 0,\n",
      "  'Distance': 4646.946071297699,\n",
      "  'FHRSID': 695223,\n",
      "  'LocalAuthorityBusinessID': 'PI/000178842',\n",
      "  'LocalAuthorityCode': '511',\n",
      "  'LocalAuthorityEmailAddress': 'health@royalgreenwich.gov.uk',\n",
      "  'LocalAuthorityName': 'Greenwich',\n",
      "  'LocalAuthorityWebSite': 'http://www.royalgreenwich.gov.uk',\n",
      "  'NewRatingPending': False,\n",
      "  'Phone': '',\n",
      "  'PostCode': 'SE18 1JQ',\n",
      "  'RatingDate': '2019-11-13T00:00:00',\n",
      "  'RatingKey': 'fhrs_5_en-gb',\n",
      "  'RatingValue': '5',\n",
      "  'RightToReply': '',\n",
      "  'SchemeType': 'FHRS',\n",
      "  '_id': ObjectId('6407bb10fdd3235c36cce5d3'),\n",
      "  'geocode': {'latitude': 51.4871482849121, 'longitude': 0.0924199968576431},\n",
      "  'latitude': None,\n",
      "  'links': [{'href': 'http://api.ratings.food.gov.uk/establishments/695223',\n",
      "             'rel': 'self'}],\n",
      "  'longitude': None,\n",
      "  'meta': {'dataSource': None,\n",
      "           'extractDate': '0001-01-01T00:00:00',\n",
      "           'itemCount': 0,\n",
      "           'pageNumber': 0,\n",
      "           'pageSize': 0,\n",
      "           'returncode': None,\n",
      "           'totalCount': 0,\n",
      "           'totalPages': 0},\n",
      "  'scores': {'ConfidenceInManagement': 5, 'Hygiene': 0, 'Structural': 5}},\n",
      " {'AddressLine1': 'Restaurant And Premises 107A Plumstead High Street',\n",
      "  'AddressLine2': '',\n",
      "  'AddressLine3': 'Plumstead',\n",
      "  'AddressLine4': 'Greenwich',\n",
      "  'BusinessName': 'Howe and Co Fish and Chips - Van 17',\n",
      "  'BusinessType': 'Mobile caterer',\n",
      "  'BusinessTypeID': 7846,\n",
      "  'ChangesByServerID': 0,\n",
      "  'Distance': 4646.95593107927,\n",
      "  'FHRSID': 1380578,\n",
      "  'LocalAuthorityBusinessID': '14425',\n",
      "  'LocalAuthorityCode': '511',\n",
      "  'LocalAuthorityEmailAddress': 'health@royalgreenwich.gov.uk',\n",
      "  'LocalAuthorityName': 'Greenwich',\n",
      "  'LocalAuthorityWebSite': 'http://www.royalgreenwich.gov.uk',\n",
      "  'NewRatingPending': False,\n",
      "  'Phone': '',\n",
      "  'PostCode': 'SE18 1SE',\n",
      "  'RatingDate': '2021-11-11T00:00:00',\n",
      "  'RatingKey': 'fhrs_5_en-gb',\n",
      "  'RatingValue': '5',\n",
      "  'RightToReply': '',\n",
      "  'SchemeType': 'FHRS',\n",
      "  '_id': ObjectId('6407bb10fdd3235c36cce5e3'),\n",
      "  'geocode': {'latitude': 51.4875335693359, 'longitude': 0.0925370007753372},\n",
      "  'latitude': None,\n",
      "  'links': [{'href': 'http://api.ratings.food.gov.uk/establishments/1380578',\n",
      "             'rel': 'self'}],\n",
      "  'longitude': None,\n",
      "  'meta': {'dataSource': None,\n",
      "           'extractDate': '0001-01-01T00:00:00',\n",
      "           'itemCount': 0,\n",
      "           'pageNumber': 0,\n",
      "           'pageSize': 0,\n",
      "           'returncode': None,\n",
      "           'totalCount': 0,\n",
      "           'totalPages': 0},\n",
      "  'scores': {'ConfidenceInManagement': 0, 'Hygiene': 0, 'Structural': 0}}]\n"
     ]
    }
   ],
   "source": [
    "# Search within 0.01 degree on either side of the latitude and longitude.\n",
    "# Rating value must equal 5\n",
    "# Sort by hygiene score\n",
    "\n",
    "degree_search = 0.01\n",
    "latitude = 51.49014200\n",
    "longitude = 0.08384000 \n",
    "query = {'geocode.latitude': {'$gte':latitude-degree_search, '$lte':latitude+degree_search},\n",
    "         'geocode.longitude': {'$gte': longitude-degree_search, '$lte': longitude+degree_search},\n",
    "         'RatingValue': '5'}\n",
    "sort = [(\"scores.Hygiene\", 1)]\n",
    "limit = 5\n",
    "\n",
    "# Print the results\n",
    "rest_results = list(establishments.find(query).sort(sort).limit(limit))\n",
    "pprint(rest_results)                               "
   ]
  },
  {
   "cell_type": "code",
   "execution_count": 11,
   "id": "a6ad16f7",
   "metadata": {},
   "outputs": [],
   "source": [
    "# Convert result to Pandas DataFrame\n",
    "nearby_rest_df = pd.DataFrame(rest_results)"
   ]
  },
  {
   "cell_type": "markdown",
   "id": "67281254",
   "metadata": {},
   "source": [
    "### 4. How many establishments in each Local Authority area have a hygiene score of 0?"
   ]
  },
  {
   "cell_type": "code",
   "execution_count": 24,
   "id": "4eeb227e",
   "metadata": {},
   "outputs": [],
   "source": [
    "# Create a pipeline that: \n",
    "# 1. Matches establishments with a hygiene score of 0\n",
    "match_query = {'$match':{\"scores.Hygiene\": 0}}\n",
    "# 2. Groups the matches by Local Authority\n",
    "group_query = { '$group': { \"_id\": \"$LocalAuthorityName\", 'match_query': { '$sum': 1 } } }\n",
    "# 3. Sorts the matches from highest to lowest\n",
    "sort_values = {'$sort': { 'match_query': -1 }}\n",
    "# Print the number of documents in the result\n",
    "# Print the first 10 results\n",
    "pipeline = [match_query, group_query, sort_values]\n",
    "localauth_results = list(establishments.aggregate(pipeline))"
   ]
  },
  {
   "cell_type": "code",
   "execution_count": 25,
   "id": "d8aab364",
   "metadata": {
    "scrolled": true
   },
   "outputs": [
    {
     "name": "stdout",
     "output_type": "stream",
     "text": [
      "Rows in DataFrame:  55\n",
      "               _id  match_query\n",
      "0           Thanet         1130\n",
      "1        Greenwich          882\n",
      "2        Maidstone          713\n",
      "3           Newham          711\n",
      "4            Swale          686\n",
      "5       Chelmsford          680\n",
      "6           Medway          672\n",
      "7           Bexley          607\n",
      "8  Southend-On-Sea          586\n",
      "9         Tendring          542\n"
     ]
    }
   ],
   "source": [
    "# Convert the result to a Pandas DataFrame\n",
    "results_df = pd.DataFrame(localauth_results)\n",
    "# Display the number of rows in the DataFrame\n",
    "print(\"Rows in DataFrame: \", len(results_df))\n",
    "# Display the first 10 rows of the DataFrame\n",
    "pprint(results_df[0:10])\n"
   ]
  }
 ],
 "metadata": {
  "kernelspec": {
   "display_name": "Python 3 (ipykernel)",
   "language": "python",
   "name": "python3"
  },
  "language_info": {
   "codemirror_mode": {
    "name": "ipython",
    "version": 3
   },
   "file_extension": ".py",
   "mimetype": "text/x-python",
   "name": "python",
   "nbconvert_exporter": "python",
   "pygments_lexer": "ipython3",
   "version": "3.9.12"
  }
 },
 "nbformat": 4,
 "nbformat_minor": 5
}
